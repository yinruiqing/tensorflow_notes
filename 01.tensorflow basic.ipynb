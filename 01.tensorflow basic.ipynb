{
 "cells": [
  {
   "cell_type": "code",
   "execution_count": 2,
   "metadata": {
    "collapsed": false
   },
   "outputs": [],
   "source": [
    "%matplotlib inline\n",
    "import numpy as np\n",
    "import matplotlib.pyplot as plt"
   ]
  },
  {
   "cell_type": "code",
   "execution_count": 3,
   "metadata": {
    "collapsed": true
   },
   "outputs": [],
   "source": [
    "from __future__ import print_function\n",
    "import tensorflow as tf"
   ]
  },
  {
   "cell_type": "markdown",
   "metadata": {},
   "source": [
    "开始进行tensorflow的计算的时候需要开启一个session。sesseion.run()来进行计算任务"
   ]
  },
  {
   "cell_type": "code",
   "execution_count": 37,
   "metadata": {
    "collapsed": true
   },
   "outputs": [],
   "source": [
    "sess = tf.Session()"
   ]
  },
  {
   "cell_type": "markdown",
   "metadata": {},
   "source": [
    "tensorflow 的计算是基于tensor的。下面介绍tensor的两种类型"
   ]
  },
  {
   "cell_type": "markdown",
   "metadata": {},
   "source": [
    "# tensor的类型"
   ]
  },
  {
   "cell_type": "markdown",
   "metadata": {},
   "source": [
    "## 常数(constant)"
   ]
  },
  {
   "cell_type": "code",
   "execution_count": 18,
   "metadata": {
    "collapsed": true
   },
   "outputs": [],
   "source": [
    "hello = tf.constant('Hello, TensorFlow!')\n",
    "scalar1 = tf.constant(0)\n",
    "matrix1 = tf.constant([[1, 1]])\n",
    "matrix2 = tf.constant([[2],[2]])\n",
    "matrix3 = tf.constant(1.0, shape=[2, 3])\n"
   ]
  },
  {
   "cell_type": "code",
   "execution_count": 20,
   "metadata": {
    "collapsed": false
   },
   "outputs": [
    {
     "name": "stdout",
     "output_type": "stream",
     "text": [
      "string:\n",
      " b'Hello, TensorFlow!'\n",
      "scalar1:\n",
      " 0\n",
      "matrix1:\n",
      " [[1 1]]\n",
      "matrix2:\n",
      " [[2]\n",
      " [2]]\n",
      "matrix3:\n",
      " [[ 1.  1.  1.]\n",
      " [ 1.  1.  1.]]\n"
     ]
    }
   ],
   "source": [
    "print('string:\\n',sess.run(hello))\n",
    "print('scalar1:\\n',sess.run(scalar1))\n",
    "print('matrix1:\\n',sess.run(matrix1))\n",
    "print('matrix2:\\n',sess.run(matrix2))\n",
    "print('matrix3:\\n',sess.run(matrix3))"
   ]
  },
  {
   "cell_type": "markdown",
   "metadata": {},
   "source": [
    "其它的常量tensor有 \n",
    "\n",
    "* tf.zeros(shape, dtype=tf.float32, name=None) \n",
    "* tf.zeros_like(tensor, dtype=None, name=None, optimize=True)：\n",
    "    * 用来产生和tensor 的shape相同的全零tensor\n",
    "* tf.ones(shape, dtype=tf.float32, name=None) \n",
    "* tf.ones_like(tensor, dtype=None, name=None, optimize=True)： \n",
    "    * 用来产生和tensor 的shape相同的全一tensor"
   ]
  },
  {
   "cell_type": "markdown",
   "metadata": {},
   "source": [
    "### 序列"
   ]
  },
  {
   "cell_type": "code",
   "execution_count": 24,
   "metadata": {
    "collapsed": false
   },
   "outputs": [
    {
     "name": "stdout",
     "output_type": "stream",
     "text": [
      "seq 1:\n",
      " [ 0.    0.25  0.5   0.75  1.  ]\n",
      "seq 2:\n",
      " [0 1 2 3 4 5 6 7 8 9]\n"
     ]
    }
   ],
   "source": [
    "seq1 = tf.linspace(0.0,1.0,5)\n",
    "seq2 = tf.range(0,10)\n",
    "print('seq 1:\\n',sess.run(seq1))\n",
    "print('seq 2:\\n',sess.run(seq2))"
   ]
  },
  {
   "cell_type": "markdown",
   "metadata": {},
   "source": [
    "### 随机数"
   ]
  },
  {
   "cell_type": "code",
   "execution_count": 27,
   "metadata": {
    "collapsed": false
   },
   "outputs": [
    {
     "name": "stdout",
     "output_type": "stream",
     "text": [
      "First run: \n",
      " [[ 2.13112187  1.03375471  0.18747409]\n",
      " [-1.31574845 -0.247675   -0.36277783]]\n",
      "Second run: \n",
      " [[-1.09392798 -0.28958207 -0.78737879]\n",
      " [-0.58714288 -1.33110166 -0.98740894]]\n",
      "Orignal value:\n",
      " [[1 2]\n",
      " [3 4]\n",
      " [5 6]]\n",
      "After shuffle:\n",
      " [[3 4]\n",
      " [1 2]\n",
      " [5 6]]\n"
     ]
    }
   ],
   "source": [
    "# 产生 shape [2, 3] 的tensor，tensor里面的数是服从正态分布随机数, 均值为0，方差为1\n",
    "norm = tf.random_normal([2, 3], mean=0, stddev=1)\n",
    "\n",
    "# 顺着第一维打乱tensor\n",
    "c = tf.constant([[1, 2], [3, 4], [5, 6]])\n",
    "shuff = tf.random_shuffle(c)\n",
    "\n",
    "# 输出norm和shuff\n",
    "print('First run: \\n',sess.run(norm))\n",
    "print('Second run: \\n',sess.run(norm))\n",
    "print('Orignal value:\\n',sess.run(c))\n",
    "print('After shuffle:\\n',sess.run(shuff))"
   ]
  },
  {
   "cell_type": "markdown",
   "metadata": {},
   "source": [
    "## 变量\n",
    "在通过tensorflow建模型的时候。首先要定义一个计算图，计算图的基础就是变量，变量也是一个tensor，在模型优化过程中，变量的值会发生变化。这点和常数不一样。常数是不变的。我们可以用assign来对变量进行更新。tensorflow中的Variable是一个类（Class），里面定义了各种方法。所以使用变量的流程是\n",
    "* 定义变量\n",
    "* 定义变量之间的计算（如用tensorflow现成的函数或者Variable类自带的函数来对变量定义更新操作）\n",
    "* 定义变量的初始化操作\n",
    "* 在session进行计算"
   ]
  },
  {
   "cell_type": "code",
   "execution_count": 32,
   "metadata": {
    "collapsed": false
   },
   "outputs": [
    {
     "name": "stdout",
     "output_type": "stream",
     "text": [
      "Value 的name是： counter_4:0\n",
      "第一种\n",
      "1\n",
      "2\n",
      "3\n",
      "第二种\n",
      "4\n",
      "5\n",
      "6\n",
      "第三种\n",
      "7\n",
      "8\n",
      "9\n"
     ]
    }
   ],
   "source": [
    "orign_value = tf.Variable(0, name='counter')\n",
    "print('Value 的name是：', orign_value.name)\n",
    "one = tf.constant(1)\n",
    "\n",
    "#三种种更新变量方式\n",
    "new_value = tf.add(orign_value, one)\n",
    "update_1 = tf.assign(orign_value, new_value)\n",
    "\n",
    "update_2 = orign_value.assign(orign_value + one)\n",
    "\n",
    "update_3 = orign_value.assign_add(one)\n",
    "\n",
    "#初始化操作\n",
    "init = tf.global_variables_initializer()\n",
    "\n",
    "with tf.Session() as sess:\n",
    "    sess.run(init)\n",
    "    print('第一种')\n",
    "    for _ in range(3):\n",
    "        sess.run(update_1)\n",
    "        print(sess.run(orign_value))\n",
    "    print('第二种')\n",
    "    for _ in range(3):\n",
    "        sess.run(update_3)\n",
    "        print(sess.run(orign_value))\n",
    "    print('第三种')\n",
    "    for _ in range(3):\n",
    "        sess.run(update_3)\n",
    "        print(sess.run(orign_value))\n",
    "\n",
    "\n",
    "\n"
   ]
  },
  {
   "cell_type": "markdown",
   "metadata": {},
   "source": [
    "## Placeholder\n",
    "对于模型来说它需要接受外部的输入，这时就需要用到占位符（placeholder）。它是通过字典的方式将值传递给模型的。"
   ]
  },
  {
   "cell_type": "code",
   "execution_count": 34,
   "metadata": {
    "collapsed": false
   },
   "outputs": [
    {
     "name": "stdout",
     "output_type": "stream",
     "text": [
      "[ 14.]\n"
     ]
    }
   ],
   "source": [
    "input1 = tf.placeholder(tf.float32)\n",
    "input2 = tf.placeholder(tf.float32)\n",
    "output = tf.mul(input1, input2)\n",
    "\n",
    "with tf.Session() as sess:\n",
    "    print(sess.run(output, feed_dict={input1: [7.], input2: [2.]}))"
   ]
  },
  {
   "cell_type": "markdown",
   "metadata": {},
   "source": [
    "# Tensor 的基本操作"
   ]
  },
  {
   "cell_type": "markdown",
   "metadata": {},
   "source": [
    "## 基本的算数操作"
   ]
  },
  {
   "cell_type": "code",
   "execution_count": 44,
   "metadata": {
    "collapsed": true
   },
   "outputs": [],
   "source": [
    "string1 = tf.constant('12345')\n",
    "scalar1 = tf.constant(2)\n",
    "matrix1 = tf.constant([[1, 1]])\n",
    "matrix2 = tf.constant([[2,2]])\n",
    "matrix3 = tf.constant([[3],[3]])"
   ]
  },
  {
   "cell_type": "code",
   "execution_count": 38,
   "metadata": {
    "collapsed": false
   },
   "outputs": [
    {
     "name": "stdout",
     "output_type": "stream",
     "text": [
      "matrix1 + matrix2 :\n",
      " [[3 3]]\n"
     ]
    }
   ],
   "source": [
    "res_add = tf.add(matrix1,matrix2)\n",
    "print('matrix1 + matrix2 :\\n',sess.run(res_add))"
   ]
  },
  {
   "cell_type": "code",
   "execution_count": 39,
   "metadata": {
    "collapsed": false
   },
   "outputs": [
    {
     "name": "stdout",
     "output_type": "stream",
     "text": [
      "matrix2 - matrix1 :\n",
      " [[1 1]]\n"
     ]
    }
   ],
   "source": [
    "res_sub = tf.sub(matrix2,matrix1)\n",
    "print('matrix2 - matrix1 :\\n',sess.run(res_sub))"
   ]
  },
  {
   "cell_type": "code",
   "execution_count": 40,
   "metadata": {
    "collapsed": false
   },
   "outputs": [
    {
     "name": "stdout",
     "output_type": "stream",
     "text": [
      "matrix2 * matrix1 :\n",
      " [[2 2]]\n"
     ]
    }
   ],
   "source": [
    "res_mul = tf.mul(matrix1,matrix2)\n",
    "print('matrix2 * matrix1 :\\n',sess.run(res_mul))"
   ]
  },
  {
   "cell_type": "code",
   "execution_count": 42,
   "metadata": {
    "collapsed": false
   },
   "outputs": [
    {
     "name": "stdout",
     "output_type": "stream",
     "text": [
      "scalar1 * matrix1 :\n",
      " [[2 2]]\n"
     ]
    }
   ],
   "source": [
    "res_scal_mul=tf.scalar_mul(scalar1,matrix1)\n",
    "print('scalar1 * matrix1 :\\n',sess.run(res_scal_mul))"
   ]
  },
  {
   "cell_type": "markdown",
   "metadata": {},
   "source": [
    "### others\n",
    "它还支持：\n",
    "* tf.div(x, y, name=None)\n",
    "* tf.mod(x, y, name=None)：取余\n",
    "* tf.cross(a, b, name=None)：叉乘\n",
    "* tf.add_n(inputs, name=None)： inputs 是list of Tensor\n",
    "* tf.abs(x, name=None)\n",
    "* tf.neg(x, name=None)： 取反\n",
    "* tf.sign(x, name=None)： 符号函数值\n",
    "* tf.inv(x, name=None)： 倒数\n",
    "* tf.square(x, name=None)\n",
    "* tf.round(x, name=None)\n",
    "* 各种矩阵操作\n",
    "* 虚数操作\n",
    "* 傅立叶变换（Fourier Transform）\n",
    "* 累加， 累乘\n",
    "* ...\n"
   ]
  },
  {
   "cell_type": "markdown",
   "metadata": {},
   "source": [
    "## Tensor的变换操作"
   ]
  },
  {
   "cell_type": "markdown",
   "metadata": {},
   "source": [
    "### 强制转换"
   ]
  },
  {
   "cell_type": "code",
   "execution_count": 45,
   "metadata": {
    "collapsed": false
   },
   "outputs": [
    {
     "name": "stdout",
     "output_type": "stream",
     "text": [
      "12345.0\n",
      "12345\n"
     ]
    }
   ],
   "source": [
    "s2n = tf.string_to_number(string1)\n",
    "#可以制定输出的格式，默认为浮点型（tf.float32）\n",
    "s2n_int = tf.string_to_number(string1,tf.int32)\n",
    "print(sess.run(s2n))\n",
    "print(sess.run(s2n_int))"
   ]
  },
  {
   "cell_type": "code",
   "execution_count": 47,
   "metadata": {
    "collapsed": false
   },
   "outputs": [
    {
     "name": "stdout",
     "output_type": "stream",
     "text": [
      "[[ 1.  1.]]\n"
     ]
    }
   ],
   "source": [
    "cast1 = tf.cast(matrix1, tf.float32)\n",
    "print(sess.run(cast1))"
   ]
  },
  {
   "cell_type": "markdown",
   "metadata": {},
   "source": [
    "#### others\n",
    "* tf.to_double(x, name='ToDouble')\n",
    "* tf.to_float(x, name='ToFloat')\n",
    "* tf.to_int32(x, name='ToInt32')\n",
    "* tf.to_int64(x, name='ToInt64')"
   ]
  },
  {
   "cell_type": "markdown",
   "metadata": {},
   "source": [
    "### Tensor 的 shape，切片等操作"
   ]
  },
  {
   "cell_type": "code",
   "execution_count": 51,
   "metadata": {
    "collapsed": false
   },
   "outputs": [
    {
     "name": "stdout",
     "output_type": "stream",
     "text": [
      "[[[7 8 9]]]\n",
      "[[[ 7  8  9]\n",
      "  [10 11 12]]]\n",
      "[[[ 7  8  9]]\n",
      "\n",
      " [[13 14 15]]]\n"
     ]
    }
   ],
   "source": [
    "#tf.slice(input_, begin, size, name=None)\n",
    "#begin 表示的是开始元素的坐标，size 每一维表示从该维取几个\n",
    "input=tf.constant([[[1,2,3],[4,5,6]], [[7,8,9],[10,11,12]],[[13,14,15],[16,17,18]]])\n",
    "slice1 = tf.slice(input, [1, 0, 0], [1, 1, 3])\n",
    "print(sess.run(slice1))\n",
    "slice2 = tf.slice(input, [1, 0, 0], [1, 2, 3])\n",
    "print(sess.run(slice2))\n",
    "slice3 = tf.slice(input, [1, 0, 0], [2, 1, 3])\n",
    "print(sess.run(slice3))"
   ]
  },
  {
   "cell_type": "code",
   "execution_count": 52,
   "metadata": {
    "collapsed": false
   },
   "outputs": [
    {
     "name": "stdout",
     "output_type": "stream",
     "text": [
      "[ 5 10]\n"
     ]
    }
   ],
   "source": [
    "#tf.split(split_dim, num_split, value, name='split')\n",
    "#把tensor按照某个维度平均分成几份\n",
    "input = tf.random_normal([5, 30], mean=0, stddev=1)\n",
    "split0,split1,split2 = tf.split(1,3,input)\n",
    "print(sess.run(tf.shape(split0)))"
   ]
  },
  {
   "cell_type": "code",
   "execution_count": 53,
   "metadata": {
    "collapsed": false
   },
   "outputs": [
    {
     "name": "stdout",
     "output_type": "stream",
     "text": [
      "[[0 0 0 0 0 0 0]\n",
      " [0 0 1 2 3 0 0]\n",
      " [0 0 4 5 6 0 0]\n",
      " [0 0 0 0 0 0 0]]\n"
     ]
    }
   ],
   "source": [
    "#tf.pad(tensor, paddings, mode='CONSTANT', name=None)\n",
    "#在tensor的周围补一些数\n",
    "#tensor是需要处理的tensor，padding指明需要pad的维度，mode 还有\"REFLECT\"和\"SYMMETRIC\"\n",
    "input = tf.constant([[1, 2, 3], [4, 5, 6]])\n",
    "paddings = tf.constant([[1, 1,], [2, 2]])\n",
    "after_pad = tf.pad(input, paddings, \"CONSTANT\")\n",
    "print(sess.run(after_pad))"
   ]
  },
  {
   "cell_type": "code",
   "execution_count": 56,
   "metadata": {
    "collapsed": false
   },
   "outputs": [
    {
     "name": "stdout",
     "output_type": "stream",
     "text": [
      "concatnate selon dim 0:\n",
      " [[ 1  2  3]\n",
      " [ 4  5  6]\n",
      " [ 7  8  9]\n",
      " [10 11 12]]\n",
      "concatnate selon dim 1:\n",
      " [[ 1  2  3  7  8  9]\n",
      " [ 4  5  6 10 11 12]]\n"
     ]
    }
   ],
   "source": [
    "#tf.concat(concat_dim, values, name='concat')\n",
    "input_1 = tf.constant([[1, 2, 3], [4, 5, 6]])\n",
    "input_2 = tf.constant([[7, 8, 9], [10, 11, 12]])\n",
    "\n",
    "concat_0 = tf.concat(0, [input_1, input_2])\n",
    "concat_1 = tf.concat(1, [input_1, input_2])\n",
    "\n",
    "print('concatnate selon dim 0:\\n',sess.run(concat_0))\n",
    "print('concatnate selon dim 1:\\n',sess.run(concat_1))"
   ]
  },
  {
   "cell_type": "code",
   "execution_count": 58,
   "metadata": {
    "collapsed": false
   },
   "outputs": [
    {
     "name": "stdout",
     "output_type": "stream",
     "text": [
      "pack selon dimension 0:\n",
      " [[1 4]\n",
      " [2 5]\n",
      " [3 6]]\n",
      "pack selon dimension 1:\n",
      " [[1 2 3]\n",
      " [4 5 6]]\n"
     ]
    }
   ],
   "source": [
    "#tf.pack(values, axis=0, name='pack')\n",
    "#将所有的tensor合并起来,可以选择不同的维度 和numpy中的stack比较像\n",
    "input_1 = tf.constant([1, 4])\n",
    "input_2 = tf.constant([2, 5])\n",
    "input_3 = tf.constant([3, 6])\n",
    "\n",
    "pack_0 = tf.pack(([input_1, input_2, input_3]))\n",
    "pack_1 = tf.pack(([input_1, input_2, input_3]), axis=1)\n",
    "\n",
    "print('pack selon dimension 0:\\n', sess.run(pack_0))\n",
    "print('pack selon dimension 1:\\n', sess.run(pack_1))"
   ]
  },
  {
   "cell_type": "markdown",
   "metadata": {},
   "source": [
    "### Others\n",
    "* tf.shape(input, name=None, out_type=tf.int32)\n",
    "* tf.shape_n(input, out_type=None, name=None)\n",
    "* tf.size(input, name=None, out_type=tf.int32)\n",
    "* tf.rank(input, name=None)： 和矩阵的rank不同，这里指的是坐标由几个数来表示\n",
    "* tf.reshape(tensor, shape, name=None)\n",
    "* tf.unpack(value, num=None, axis=0, name='unpack')\n",
    "* tf.reverse(tensor, dims, name=None)\n",
    "* tf.extract_image_patches(images, ksizes, strides, rates, padding, name=None)\n",
    "* ..."
   ]
  }
 ],
 "metadata": {
  "anaconda-cloud": {},
  "kernelspec": {
   "display_name": "Python [conda env:deeplearning]",
   "language": "python",
   "name": "conda-env-deeplearning-py"
  },
  "language_info": {
   "codemirror_mode": {
    "name": "ipython",
    "version": 3
   },
   "file_extension": ".py",
   "mimetype": "text/x-python",
   "name": "python",
   "nbconvert_exporter": "python",
   "pygments_lexer": "ipython3",
   "version": "3.5.2"
  }
 },
 "nbformat": 4,
 "nbformat_minor": 1
}
